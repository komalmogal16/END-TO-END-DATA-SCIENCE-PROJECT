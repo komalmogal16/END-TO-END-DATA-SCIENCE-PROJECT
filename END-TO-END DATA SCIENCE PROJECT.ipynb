{
 "cells": [
  {
   "cell_type": "code",
   "execution_count": 1,
   "id": "36d60d56-a658-4bfb-b93a-dbcf68eda4ed",
   "metadata": {},
   "outputs": [
    {
     "name": "stdout",
     "output_type": "stream",
     "text": [
      "Model Accuracy: 1.0\n",
      "Flask app is running!\n",
      " * Serving Flask app '__main__'\n",
      " * Debug mode: on\n"
     ]
    },
    {
     "name": "stderr",
     "output_type": "stream",
     "text": [
      "WARNING: This is a development server. Do not use it in a production deployment. Use a production WSGI server instead.\n",
      " * Running on all addresses (0.0.0.0)\n",
      " * Running on http://127.0.0.1:5000\n",
      " * Running on http://192.168.45.117:5000\n",
      "Press CTRL+C to quit\n"
     ]
    }
   ],
   "source": [
    "import joblib\n",
    "from flask import Flask, request, jsonify\n",
    "import threading\n",
    "from sklearn.datasets import load_iris\n",
    "from sklearn.model_selection import train_test_split\n",
    "from sklearn.linear_model import LogisticRegression\n",
    "from sklearn.metrics import accuracy_score\n",
    "\n",
    "# Step 1: Train a simple model (Logistic Regression on the Iris dataset)\n",
    "# Load dataset\n",
    "data = load_iris()\n",
    "X = data.data\n",
    "y = data.target\n",
    "\n",
    "# Split the data\n",
    "X_train, X_test, y_train, y_test = train_test_split(X, y, test_size=0.2, random_state=42)\n",
    "\n",
    "# Train the model\n",
    "model = LogisticRegression(max_iter=200)\n",
    "model.fit(X_train, y_train)\n",
    "\n",
    "# Evaluate the model\n",
    "y_pred = model.predict(X_test)\n",
    "print(f\"Model Accuracy: {accuracy_score(y_test, y_pred)}\")\n",
    "\n",
    "# Save the trained model\n",
    "joblib.dump(model, 'model.pkl')\n",
    "\n",
    "# Step 2: Create the Flask app\n",
    "app = Flask(__name__)\n",
    "\n",
    "@app.route('/')\n",
    "def home():\n",
    "    return \"Welcome to the Machine Learning API! Use the /predict endpoint to make predictions.\"\n",
    "\n",
    "@app.route('/favicon.ico')\n",
    "def favicon():\n",
    "    return '', 204  # Handle favicon.ico requests to avoid 404 errors\n",
    "\n",
    "@app.route('/predict', methods=['POST'])\n",
    "def predict():\n",
    "    data = request.get_json()  # Get the JSON data sent in the POST request\n",
    "    features = [data['features']]  # Extract the features for prediction\n",
    "    prediction = model.predict(features)  # Make the prediction using the model\n",
    "    return jsonify({'prediction': prediction.tolist()})  # Return the prediction in JSON format\n",
    "\n",
    "# Function to run Flask in a separate thread (necessary for Jupyter notebook compatibility)\n",
    "def run_flask():\n",
    "    app.run(debug=True, use_reloader=False, host='0.0.0.0', port=5000)\n",
    "\n",
    "# Start Flask app in a separate thread to avoid blocking Jupyter notebook\n",
    "thread = threading.Thread(target=run_flask)\n",
    "thread.start()\n",
    "\n",
    "print(\"Flask app is running!\")\n"
   ]
  },
  {
   "cell_type": "code",
   "execution_count": 2,
   "id": "b47d4211-8acf-4947-a19d-38efdf4a2c7d",
   "metadata": {},
   "outputs": [
    {
     "name": "stdout",
     "output_type": "stream",
     "text": [
      "{'prediction': [0]}\n"
     ]
    }
   ],
   "source": [
    "import requests\n",
    "\n",
    "# Define input data (for Iris dataset)\n",
    "input_data = {\n",
    "    \"features\": [5.1, 3.5, 1.4, 0.2]  # Example input for prediction\n",
    "}\n",
    "\n",
    "# Send POST request to Flask API\n",
    "response = requests.post(\"http://127.0.0.1:5000/predict\", json=input_data)\n",
    "\n",
    "# Print the prediction result\n",
    "print(response.json())\n"
   ]
  },
  {
   "cell_type": "code",
   "execution_count": null,
   "id": "aa4e4866-a798-4e85-ad2e-b03f296c987b",
   "metadata": {},
   "outputs": [],
   "source": []
  }
 ],
 "metadata": {
  "kernelspec": {
   "display_name": "Python 3 (ipykernel)",
   "language": "python",
   "name": "python3"
  },
  "language_info": {
   "codemirror_mode": {
    "name": "ipython",
    "version": 3
   },
   "file_extension": ".py",
   "mimetype": "text/x-python",
   "name": "python",
   "nbconvert_exporter": "python",
   "pygments_lexer": "ipython3",
   "version": "3.12.7"
  }
 },
 "nbformat": 4,
 "nbformat_minor": 5
}
